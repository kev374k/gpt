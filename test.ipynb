{
 "cells": [
  {
   "cell_type": "code",
   "execution_count": 9,
   "metadata": {},
   "outputs": [],
   "source": [
    "import numpy as np\n",
    "import pandas as pd\n",
    "import torch\n",
    "import matplotlib.pyplot as plt\n",
    "import torch.nn.functional as F\n",
    "from torch import nn\n",
    "%matplotlib inline"
   ]
  },
  {
   "cell_type": "code",
   "execution_count": 10,
   "metadata": {},
   "outputs": [],
   "source": [
    "# reading file\n",
    "with open('input.txt', 'r', encoding = 'utf-8') as f:\n",
    "    text = f.read()"
   ]
  },
  {
   "cell_type": "code",
   "execution_count": 11,
   "metadata": {},
   "outputs": [
    {
     "data": {
      "text/plain": [
       "1115394"
      ]
     },
     "execution_count": 11,
     "metadata": {},
     "output_type": "execute_result"
    }
   ],
   "source": [
    "len(text)"
   ]
  },
  {
   "cell_type": "code",
   "execution_count": 12,
   "metadata": {},
   "outputs": [
    {
     "name": "stdout",
     "output_type": "stream",
     "text": [
      "First Citizen:\n",
      "Before we proceed any further, hear me speak.\n",
      "\n",
      "All:\n",
      "Speak, speak.\n",
      "\n",
      "First Citizen:\n",
      "You\n"
     ]
    }
   ],
   "source": [
    "print(text[:100])"
   ]
  },
  {
   "cell_type": "code",
   "execution_count": 13,
   "metadata": {},
   "outputs": [
    {
     "name": "stdout",
     "output_type": "stream",
     "text": [
      "\n",
      " !$&',-.3:;?ABCDEFGHIJKLMNOPQRSTUVWXYZabcdefghijklmnopqrstuvwxyz\n",
      "65\n"
     ]
    }
   ],
   "source": [
    "chars = sorted(list(set(text)))\n",
    "vocab_size = len(chars)\n",
    "print(''.join(chars))\n",
    "print(vocab_size)"
   ]
  },
  {
   "cell_type": "code",
   "execution_count": 14,
   "metadata": {},
   "outputs": [],
   "source": [
    "char_to_idx = {ch:i for i, ch in enumerate(chars)}\n",
    "idx_to_char = {i:ch for ch, i in char_to_idx.items()}"
   ]
  },
  {
   "cell_type": "code",
   "execution_count": 17,
   "metadata": {},
   "outputs": [],
   "source": [
    "def encode(x):\n",
    "    return [char_to_idx[i] for i in x]\n",
    "\n",
    "def decode(x):\n",
    "    return ''.join([idx_to_char[i] for i in x])"
   ]
  },
  {
   "cell_type": "code",
   "execution_count": 18,
   "metadata": {},
   "outputs": [
    {
     "data": {
      "text/plain": [
       "torch.Size([1115394])"
      ]
     },
     "execution_count": 18,
     "metadata": {},
     "output_type": "execute_result"
    }
   ],
   "source": [
    "data = torch.tensor(encode(text), dtype = torch.long)\n",
    "data.shape"
   ]
  },
  {
   "cell_type": "code",
   "execution_count": 19,
   "metadata": {},
   "outputs": [],
   "source": [
    "n1, n2 = int(len(text) * 0.8), int(len(text) * 0.9)\n",
    "train_data = data[:n1]\n",
    "val_data = data[n1:n2]\n",
    "test_data = data[n2:]"
   ]
  },
  {
   "cell_type": "code",
   "execution_count": 20,
   "metadata": {},
   "outputs": [
    {
     "name": "stdout",
     "output_type": "stream",
     "text": [
      "tensor([[57, 43, 10,  0, 35, 46, 39, 58],\n",
      "        [42, 47, 57, 41, 53, 52, 58, 43],\n",
      "        [39, 42, 63,  1, 14, 53, 52, 39],\n",
      "        [61, 43, 56, 43,  1, 63, 53, 59]])\n",
      "tensor([[43, 10,  0, 35, 46, 39, 58,  5],\n",
      "        [47, 57, 41, 53, 52, 58, 43, 52],\n",
      "        [42, 63,  1, 14, 53, 52, 39,  6],\n",
      "        [43, 56, 43,  1, 63, 53, 59, 56]])\n"
     ]
    }
   ],
   "source": [
    "batch_size = 4\n",
    "block_size = 8\n",
    "\n",
    "def get_batch(split):\n",
    "    data = train_data if split == 'train' else val_data\n",
    "    ix = torch.randint(len(data) - block_size, (batch_size,))\n",
    "    x = torch.stack([data[i:i+block_size] for i in ix])\n",
    "    y = torch.stack([data[i+1:i+block_size+1] for i in ix])\n",
    "    return x, y\n",
    "\n",
    "xb, yb = get_batch(\"train\")\n",
    "print(xb)\n",
    "print(yb)"
   ]
  },
  {
   "cell_type": "code",
   "execution_count": 21,
   "metadata": {},
   "outputs": [
    {
     "name": "stdout",
     "output_type": "stream",
     "text": [
      "\n",
      "3Ym:BUuJ,w;.ygNu'nLnVkne.zVeusJZhd;hYykSh!:yupdsJTkxldzLrA&&mUjFjtVp\n",
      "Edy;bZJslxW?xxxx&&l!P'UOUKWK&?;\n"
     ]
    }
   ],
   "source": [
    "class BigramLanguageModel(nn.Module):\n",
    "    def __init__(self, vocab_size):\n",
    "        super().__init__()\n",
    "        self.token_embedding_table = nn.Embedding(vocab_size, vocab_size)\n",
    "\n",
    "    def forward(self, idx, targets=None):\n",
    "        logits = self.token_embedding_table(idx)\n",
    "        if targets is None:\n",
    "            loss = None\n",
    "        else:\n",
    "            B, T, C = logits.shape\n",
    "            logits = logits.view(B * T, C)\n",
    "            targets = targets.view(-1)\n",
    "            loss = F.cross_entropy(logits, targets)\n",
    "        return logits, loss\n",
    "    \n",
    "    def generate(self, idx, max_new_tokens):\n",
    "        for _ in range(max_new_tokens):\n",
    "            logits, loss = self(idx)\n",
    "            logits = logits[:, -1, :]\n",
    "            probs = F.softmax(logits, dim = -1)\n",
    "            idx_next = torch.multinomial(probs, num_samples = 1)\n",
    "            idx = torch.cat((idx, idx_next), dim = 1)\n",
    "        return idx\n",
    "\n",
    "m = BigramLanguageModel(vocab_size)\n",
    "\n",
    "idx = torch.zeros((1, 1), dtype = torch.long)\n",
    "print(decode(m.generate(idx, max_new_tokens = 100)[0].tolist()))"
   ]
  },
  {
   "cell_type": "code",
   "execution_count": 22,
   "metadata": {},
   "outputs": [],
   "source": [
    "optimizer = torch.optim.AdamW(m.parameters(), lr = 1e-3)"
   ]
  },
  {
   "cell_type": "code",
   "execution_count": 23,
   "metadata": {},
   "outputs": [
    {
     "name": "stdout",
     "output_type": "stream",
     "text": [
      "3.6168501377105713\n"
     ]
    }
   ],
   "source": [
    "batch_size = 32\n",
    "for steps in range(1000):\n",
    "    xb, yb = get_batch('train')\n",
    "\n",
    "    logits, loss = m(xb, yb)\n",
    "    optimizer.zero_grad(set_to_none = True)\n",
    "    loss.backward()\n",
    "    optimizer.step()\n",
    "\n",
    "print(loss.item())"
   ]
  },
  {
   "cell_type": "code",
   "execution_count": 24,
   "metadata": {},
   "outputs": [
    {
     "name": "stdout",
     "output_type": "stream",
     "text": [
      "\n",
      "vGL$NinVOntZokKLory.y?nV uxYNouCx&Iz!RFMwQAY?OSi\n",
      "lk3BA:PpdoinVpWyuaniloiB&Ed;q yIREXJ:Q:wH,\n",
      "WHOUFMkYfbdixycoeGv,WTkvetHP :CBzCah;h-&z.yI$QPDcumk$BOzuBFMigKit;DldIEZ;heldVOGLT BW\n",
      "RA.qgmifMulheGOYCSN:wJyJVOfGAUqLs'PbyuldTKLuxQ3d;veuMEM!bwXIzulk?hy fakQ:GcSsp wLIs uzoGjIhvuCOz!d.bU\n",
      "yHOva:bUKwdsTTonVywi\n"
     ]
    }
   ],
   "source": [
    "print(decode(m.generate(idx, max_new_tokens = 300)[0].tolist()))"
   ]
  },
  {
   "cell_type": "code",
   "execution_count": 26,
   "metadata": {},
   "outputs": [
    {
     "data": {
      "text/plain": [
       "torch.Size([4, 8, 2])"
      ]
     },
     "execution_count": 26,
     "metadata": {},
     "output_type": "execute_result"
    }
   ],
   "source": [
    "# CONSIDER THE FOLLOWING EXAMPLE:\n",
    "B, T, C = 4, 8, 2\n",
    "x = torch.randn(B, T, C)\n",
    "x.shape"
   ]
  },
  {
   "cell_type": "code",
   "execution_count": null,
   "metadata": {},
   "outputs": [],
   "source": []
  },
  {
   "cell_type": "code",
   "execution_count": 28,
   "metadata": {},
   "outputs": [],
   "source": [
    "xbow = torch.zeros((B, T, C))\n",
    "for b in range(B):\n",
    "    for t in range(T):\n",
    "        xprev = x[b,:t+1]\n",
    "        xbow[b, t] = torch.mean(xprev, 0)"
   ]
  },
  {
   "cell_type": "code",
   "execution_count": 30,
   "metadata": {},
   "outputs": [],
   "source": [
    "a = torch.tril(torch.ones(3,3))\n",
    "a = a / torch.sum(a, dim = 1, keepdim = True)\n",
    "b = torch.randint(0, 10, (3, 2)).float()\n",
    "c = a @ b"
   ]
  },
  {
   "cell_type": "code",
   "execution_count": 34,
   "metadata": {},
   "outputs": [],
   "source": [
    "wei = torch.tril(torch.ones(T, T))\n",
    "wei = wei / wei.sum(1, keepdim = True)\n",
    "xbow2 = wei @ x #(B, T, T) @ (B, T, C)"
   ]
  },
  {
   "cell_type": "code",
   "execution_count": 36,
   "metadata": {},
   "outputs": [],
   "source": [
    "#  can also use softmax for batch maultiplication\n",
    "tril = torch.tril(torch.ones(T, T))\n",
    "wei = torch.zeros((T, T))\n",
    "wei = wei.masked_fill(tril == 0, float('-inf'))\n",
    "wei = F.softmax(wei, dim = -1)\n",
    "xbow3 = wei @ x"
   ]
  },
  {
   "cell_type": "code",
   "execution_count": 48,
   "metadata": {},
   "outputs": [],
   "source": [
    "# v4: self-attention!\n",
    "# self-attention solves the problem of referring to previous pieces of data by emitting a query and key vector\n",
    "\n",
    "B, T, C = 4, 8, 32\n",
    "x = torch.randn(B, T, C)\n",
    "\n",
    "# head performing self-attention\n",
    "head_size = 16\n",
    "key = nn.Linear(C, head_size, bias = False)\n",
    "query = nn.Linear(C, head_size, bias = False)\n",
    "value = nn.Linear(C, head_size, bias = False)\n",
    "k = key(x) # (B, T, 16)\n",
    "q = query(x) # (B, T, 16)\n",
    "wei = q @ k.transpose(2, 1) \n",
    "\n",
    "tril = torch.tril(torch.ones(T, T))\n",
    "# wei = torch.zeros((T, T))\n",
    "wei = wei.masked_fill(tril == 0, float('-inf'))\n",
    "wei = F.softmax(wei, dim = -1)\n",
    "v = value(x)\n",
    "\n",
    "out = wei @ v"
   ]
  },
  {
   "cell_type": "code",
   "execution_count": 49,
   "metadata": {},
   "outputs": [
    {
     "data": {
      "text/plain": [
       "tensor([[[1.0000, 0.0000, 0.0000, 0.0000, 0.0000, 0.0000, 0.0000, 0.0000],\n",
       "         [0.1118, 0.8882, 0.0000, 0.0000, 0.0000, 0.0000, 0.0000, 0.0000],\n",
       "         [0.4319, 0.5111, 0.0570, 0.0000, 0.0000, 0.0000, 0.0000, 0.0000],\n",
       "         [0.4876, 0.0050, 0.3231, 0.1843, 0.0000, 0.0000, 0.0000, 0.0000],\n",
       "         [0.5566, 0.0383, 0.0839, 0.2424, 0.0788, 0.0000, 0.0000, 0.0000],\n",
       "         [0.0264, 0.0859, 0.0917, 0.5409, 0.0741, 0.1810, 0.0000, 0.0000],\n",
       "         [0.7753, 0.0091, 0.1869, 0.0067, 0.0038, 0.0111, 0.0070, 0.0000],\n",
       "         [0.0162, 0.1238, 0.0342, 0.1930, 0.0773, 0.1358, 0.3146, 0.1051]],\n",
       "\n",
       "        [[1.0000, 0.0000, 0.0000, 0.0000, 0.0000, 0.0000, 0.0000, 0.0000],\n",
       "         [0.6329, 0.3671, 0.0000, 0.0000, 0.0000, 0.0000, 0.0000, 0.0000],\n",
       "         [0.2871, 0.3449, 0.3680, 0.0000, 0.0000, 0.0000, 0.0000, 0.0000],\n",
       "         [0.1300, 0.1359, 0.1031, 0.6309, 0.0000, 0.0000, 0.0000, 0.0000],\n",
       "         [0.3745, 0.5305, 0.0257, 0.0268, 0.0424, 0.0000, 0.0000, 0.0000],\n",
       "         [0.0141, 0.2321, 0.0392, 0.6895, 0.0215, 0.0036, 0.0000, 0.0000],\n",
       "         [0.1149, 0.2379, 0.2495, 0.0598, 0.0088, 0.0780, 0.2510, 0.0000],\n",
       "         [0.0260, 0.0017, 0.1589, 0.3691, 0.3006, 0.0146, 0.0145, 0.1146]],\n",
       "\n",
       "        [[1.0000, 0.0000, 0.0000, 0.0000, 0.0000, 0.0000, 0.0000, 0.0000],\n",
       "         [0.9816, 0.0184, 0.0000, 0.0000, 0.0000, 0.0000, 0.0000, 0.0000],\n",
       "         [0.2502, 0.4966, 0.2532, 0.0000, 0.0000, 0.0000, 0.0000, 0.0000],\n",
       "         [0.0140, 0.4652, 0.3759, 0.1449, 0.0000, 0.0000, 0.0000, 0.0000],\n",
       "         [0.3324, 0.0852, 0.0237, 0.0024, 0.5563, 0.0000, 0.0000, 0.0000],\n",
       "         [0.0434, 0.2973, 0.1897, 0.0584, 0.0844, 0.3269, 0.0000, 0.0000],\n",
       "         [0.0194, 0.0129, 0.1274, 0.0317, 0.1147, 0.1226, 0.5713, 0.0000],\n",
       "         [0.3382, 0.0978, 0.0611, 0.0204, 0.1840, 0.1555, 0.1186, 0.0244]],\n",
       "\n",
       "        [[1.0000, 0.0000, 0.0000, 0.0000, 0.0000, 0.0000, 0.0000, 0.0000],\n",
       "         [0.1134, 0.8866, 0.0000, 0.0000, 0.0000, 0.0000, 0.0000, 0.0000],\n",
       "         [0.1632, 0.1946, 0.6422, 0.0000, 0.0000, 0.0000, 0.0000, 0.0000],\n",
       "         [0.1256, 0.4311, 0.3687, 0.0746, 0.0000, 0.0000, 0.0000, 0.0000],\n",
       "         [0.5736, 0.2966, 0.0162, 0.0495, 0.0640, 0.0000, 0.0000, 0.0000],\n",
       "         [0.0132, 0.0906, 0.0803, 0.1045, 0.0304, 0.6810, 0.0000, 0.0000],\n",
       "         [0.0919, 0.0944, 0.4458, 0.1442, 0.1010, 0.0412, 0.0814, 0.0000],\n",
       "         [0.0091, 0.1309, 0.0471, 0.0078, 0.3066, 0.1301, 0.2825, 0.0860]]],\n",
       "       grad_fn=<SoftmaxBackward0>)"
      ]
     },
     "execution_count": 49,
     "metadata": {},
     "output_type": "execute_result"
    }
   ],
   "source": [
    "wei"
   ]
  },
  {
   "cell_type": "code",
   "execution_count": 55,
   "metadata": {},
   "outputs": [],
   "source": [
    "q = torch.randn(B, T, head_size)\n",
    "k = torch.randn(B, T, head_size)\n",
    "\n",
    "wei = q @ k.transpose(-2, -1) * (head_size ** 0.5)\n",
    "wei = wei.masked_fill(tril == 0, float('-inf'))\n",
    "wei = F.softmax(wei, dim = -1)"
   ]
  },
  {
   "cell_type": "code",
   "execution_count": 58,
   "metadata": {},
   "outputs": [
    {
     "data": {
      "text/plain": [
       "tensor([[1.0000e+00, 0.0000e+00, 0.0000e+00, 0.0000e+00, 0.0000e+00, 0.0000e+00,\n",
       "         0.0000e+00, 0.0000e+00],\n",
       "        [1.0000e+00, 1.4490e-07, 0.0000e+00, 0.0000e+00, 0.0000e+00, 0.0000e+00,\n",
       "         0.0000e+00, 0.0000e+00],\n",
       "        [1.0000e+00, 1.9732e-09, 6.4839e-07, 0.0000e+00, 0.0000e+00, 0.0000e+00,\n",
       "         0.0000e+00, 0.0000e+00],\n",
       "        [1.8757e-05, 1.4842e-05, 9.9997e-01, 3.8334e-27, 0.0000e+00, 0.0000e+00,\n",
       "         0.0000e+00, 0.0000e+00],\n",
       "        [2.5981e-11, 4.3298e-04, 9.9956e-01, 6.6567e-10, 4.4060e-06, 0.0000e+00,\n",
       "         0.0000e+00, 0.0000e+00],\n",
       "        [9.3426e-01, 6.7942e-05, 4.4665e-05, 5.6577e-22, 5.1323e-11, 6.5628e-02,\n",
       "         0.0000e+00, 0.0000e+00],\n",
       "        [6.3295e-13, 1.6080e-14, 3.9675e-09, 1.0000e+00, 8.4008e-17, 6.2289e-12,\n",
       "         2.0503e-26, 0.0000e+00],\n",
       "        [1.4895e-11, 3.1624e-06, 2.0540e-13, 8.2985e-08, 9.9968e-01, 4.7391e-08,\n",
       "         1.1547e-06, 3.1378e-04]])"
      ]
     },
     "execution_count": 58,
     "metadata": {},
     "output_type": "execute_result"
    }
   ],
   "source": [
    "wei[0]"
   ]
  },
  {
   "cell_type": "code",
   "execution_count": null,
   "metadata": {},
   "outputs": [],
   "source": []
  }
 ],
 "metadata": {
  "kernelspec": {
   "display_name": "base",
   "language": "python",
   "name": "python3"
  },
  "language_info": {
   "codemirror_mode": {
    "name": "ipython",
    "version": 3
   },
   "file_extension": ".py",
   "mimetype": "text/x-python",
   "name": "python",
   "nbconvert_exporter": "python",
   "pygments_lexer": "ipython3",
   "version": "3.11.5"
  }
 },
 "nbformat": 4,
 "nbformat_minor": 2
}
